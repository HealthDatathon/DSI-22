{
 "cells": [
  {
   "cell_type": "markdown",
   "metadata": {
    "_cell_guid": "83970e02-b5b8-4d7d-805e-1daa146348ef",
    "_uuid": "2ea71e18f584b8f44ab68f2a3d83e5b65a37d68c"
   },
   "source": [
    "This is a beginner's guide for using Keras MLP approach to build simple data analyis model. <br/>\n",
    "It's also my first kernal written on Kaggle... haha<br/>\n",
    "So if you have any comments or questions for me, feel free to leave a message~"
   ]
  },
  {
   "cell_type": "markdown",
   "metadata": {},
   "source": [
    "[![Open In Colab](https://colab.research.google.com/assets/colab-badge.svg)](https://colab.research.google.com/github/HealthDatathon/DSI-22/blob/main/notebooks/cervical-cancer/for-beginners-using-keras-to-build-models.ipynb)"
   ]
  },
  {
   "cell_type": "markdown",
   "metadata": {
    "_cell_guid": "db4ba2a9-5745-4eff-895b-a1d25f66ed29",
    "_uuid": "58d0ab6ae326a730c07bc9f88f91c2014b6d462c"
   },
   "source": [
    "# Outline of practicing machine learning<br/>\n",
    "## 1. Data observation <br/>\n",
    "## 2. Data pre-processing <br/>\n",
    "## 3. Model designing and training <br/>\n",
    "## 4. Model accuracy test <br/>"
   ]
  },
  {
   "cell_type": "code",
   "execution_count": null,
   "metadata": {
    "_cell_guid": "1100ef71-07a6-42ed-a16c-7fee7a770823",
    "_uuid": "231771e706b20550b5acfc551d08a3119bc29d39"
   },
   "outputs": [],
   "source": [
    "# This Python 3 environment comes with many helpful analytics libraries installed\n",
    "# It is defined by the kaggle/python docker image: https://github.com/kaggle/docker-python\n",
    "# For example, here's several helpful packages to load in \n",
    "\n",
    "import numpy as np # linear algebra\n",
    "import pandas as pd # data processing, CSV file I/O (e.g. pd.read_csv)\n",
    "\n",
    "# Input data files are available in the \"../input/\" directory.\n",
    "# For example, running this (by clicking run or pressing Shift+Enter) will list the files in the input directory\n",
    "\n",
    "from subprocess import check_output\n",
    "print(check_output([\"ls\", \"../input/kag_risk_factors_cervical_cancer.csv\"]).decode(\"utf8\"))\n",
    "\n",
    "# Any results you write to the current directory are saved as output."
   ]
  },
  {
   "cell_type": "code",
   "execution_count": null,
   "metadata": {
    "_cell_guid": "7e3be8bd-1e34-40c4-87f0-0f016961acdf",
    "_uuid": "b6c56fd4b535748008d51b6a2d5e347ac46e13fe",
    "collapsed": true,
    "jupyter": {
     "outputs_hidden": true
    }
   },
   "outputs": [],
   "source": [
    "import pandas as pd\n",
    "import matplotlib.pyplot as plt\n",
    "import seaborn as sns\n",
    "sns.set_style('darkgrid')\n",
    "import numpy as np\n",
    "from scipy.stats import norm\n",
    "from sklearn.preprocessing import StandardScaler\n",
    "from scipy import stats\n",
    "import warnings\n",
    "warnings.filterwarnings('ignore')\n",
    "%matplotlib inline"
   ]
  },
  {
   "cell_type": "markdown",
   "metadata": {
    "_cell_guid": "cf50e40e-c23e-4eaf-b9d0-8da813b742ca",
    "_uuid": "ca9c31de83e0d49582f98a3935ddab01af51dffd"
   },
   "source": [
    "# 1. Data observation"
   ]
  },
  {
   "cell_type": "markdown",
   "metadata": {
    "_cell_guid": "64c22b02-188b-4339-94fc-d3d12e542cea",
    "_uuid": "5f731266a089dff368ad956d3a36779d4d483365"
   },
   "source": [
    "Here our observation means to see the type and structure of the data or whether there are missing values . If we want to purely let machine learn by itself, then we should not look too deeply into the data in case the bias made by human intelligence."
   ]
  },
  {
   "cell_type": "markdown",
   "metadata": {
    "_cell_guid": "c0619f73-b18a-4115-8ca6-99468c5da6d0",
    "_uuid": "750401887c7eaf3a6f4eb46f34cc9c6b88a07be4"
   },
   "source": [
    "Let's import the data"
   ]
  },
  {
   "cell_type": "code",
   "execution_count": null,
   "metadata": {
    "_cell_guid": "0d4c6da7-6c54-463b-bb37-442b059fc749",
    "_uuid": "b5cb0b4f19b96b1671e47d4654f0ec026050198b",
    "collapsed": true,
    "jupyter": {
     "outputs_hidden": true
    }
   },
   "outputs": [],
   "source": [
    "df_full = pd.read_csv('../input/kag_risk_factors_cervical_cancer.csv')"
   ]
  },
  {
   "cell_type": "code",
   "execution_count": null,
   "metadata": {
    "_cell_guid": "d4675517-ab41-471c-8253-521f809d5093",
    "_uuid": "26b96a62d1af06538c20b9ed78dfcb529dcce0ce"
   },
   "outputs": [],
   "source": [
    "df_full"
   ]
  },
  {
   "cell_type": "code",
   "execution_count": null,
   "metadata": {
    "_cell_guid": "10de01f5-ef94-456f-a45d-f734307d5986",
    "_uuid": "ed5d7974e508e623fcec30de2ca8d7a665046fdc"
   },
   "outputs": [],
   "source": [
    "df_full.info()"
   ]
  },
  {
   "cell_type": "markdown",
   "metadata": {
    "_cell_guid": "fc3da2fe-1d2b-46a8-9e8c-9e28bbf18f58",
    "_uuid": "e99ff56ff26523d6a07468501cd0257a7211189a"
   },
   "source": [
    "It seems there are some missing values named as '?', and made the whole column become an object. \n",
    "To do further computation, we have to replace '?' with NaN and turn the object type to numeric type."
   ]
  },
  {
   "cell_type": "code",
   "execution_count": null,
   "metadata": {
    "_cell_guid": "8fdd875c-e614-452d-b482-5cf0c5139860",
    "_uuid": "2b3201c2e44c5bcb737f2cbcc859545df7e4d6e8",
    "collapsed": true,
    "jupyter": {
     "outputs_hidden": true
    }
   },
   "outputs": [],
   "source": [
    "df_fullna = df_full.replace('?', np.nan)"
   ]
  },
  {
   "cell_type": "code",
   "execution_count": null,
   "metadata": {
    "_cell_guid": "625a5282-944a-4cff-ad4d-978f77be97f0",
    "_uuid": "e68e8ddad5521d291300610345a0bd888bf2afd3"
   },
   "outputs": [],
   "source": [
    "df_fullna.isnull().sum() #check NaN counts in different columns"
   ]
  },
  {
   "cell_type": "markdown",
   "metadata": {
    "_cell_guid": "6551edbc-b680-4c7b-9d45-a838b040fbd5",
    "_uuid": "c8d9a63d5ef285e531c62dce6341e069b83ef2c4"
   },
   "source": [
    "# 2. Data-preprocessing"
   ]
  },
  {
   "cell_type": "code",
   "execution_count": null,
   "metadata": {
    "_cell_guid": "8c8b1b8c-658b-4b4b-81bd-ab172f8ae38a",
    "_uuid": "ce1f19dc3914b2fe9d1125b753ff23aad0304532",
    "collapsed": true,
    "jupyter": {
     "outputs_hidden": true
    }
   },
   "outputs": [],
   "source": [
    "df = df_fullna  #making temporary save"
   ]
  },
  {
   "cell_type": "code",
   "execution_count": null,
   "metadata": {
    "_cell_guid": "55f00169-66f6-4d4c-970e-be8fde2919e6",
    "_uuid": "efde0ac7edb8bc23b6592fbdf98366561527f81c"
   },
   "outputs": [],
   "source": [
    "df = df.convert_objects(convert_numeric=True) #turn data into numeric type for computation"
   ]
  },
  {
   "cell_type": "code",
   "execution_count": null,
   "metadata": {
    "_cell_guid": "6427ab31-cec1-493c-992b-e3b112e799c5",
    "_uuid": "f41e32a6733da78366aa6bf0e630c47c943923d5"
   },
   "outputs": [],
   "source": [
    "df.info() # Now it's all numeric type, and we are ready for computation and fill NaN."
   ]
  },
  {
   "cell_type": "markdown",
   "metadata": {
    "_cell_guid": "fe5fd0f0-ee3c-46df-bc9c-c8f9159ab88d",
    "_uuid": "91c28b7aa00a103648260fd4161b2ce053b47e42"
   },
   "source": [
    "Now It's time to fill all the NaN values. <br/>\n",
    "For continuous variable, we fill the median value.  (THX for the suggestion in comment)<br/>\n",
    "For categorical variable, we fill 1."
   ]
  },
  {
   "cell_type": "code",
   "execution_count": null,
   "metadata": {
    "_cell_guid": "5d92d496-700e-4832-99ae-45dc485c8271",
    "_uuid": "f2cd15edece592f4de38be3ad7e87747c218536a",
    "collapsed": true,
    "jupyter": {
     "outputs_hidden": true
    }
   },
   "outputs": [],
   "source": [
    "# for continuous variable\n",
    "df['Number of sexual partners'] = df['Number of sexual partners'].fillna(df['Number of sexual partners'].median())\n",
    "df['First sexual intercourse'] = df['First sexual intercourse'].fillna(df['First sexual intercourse'].median())\n",
    "df['Num of pregnancies'] = df['Num of pregnancies'].fillna(df['Num of pregnancies'].median())\n",
    "df['Smokes'] = df['Smokes'].fillna(1)\n",
    "df['Smokes (years)'] = df['Smokes (years)'].fillna(df['Smokes (years)'].median())\n",
    "df['Smokes (packs/year)'] = df['Smokes (packs/year)'].fillna(df['Smokes (packs/year)'].median())\n",
    "df['Hormonal Contraceptives'] = df['Hormonal Contraceptives'].fillna(1)\n",
    "df['Hormonal Contraceptives (years)'] = df['Hormonal Contraceptives (years)'].fillna(df['Hormonal Contraceptives (years)'].median())\n",
    "df['IUD'] = df['IUD'].fillna(0) # Under suggestion\n",
    "df['IUD (years)'] = df['IUD (years)'].fillna(0) #Under suggestion\n",
    "df['STDs'] = df['STDs'].fillna(1)\n",
    "df['STDs (number)'] = df['STDs (number)'].fillna(df['STDs (number)'].median())\n",
    "df['STDs:condylomatosis'] = df['STDs:condylomatosis'].fillna(df['STDs:condylomatosis'].median())\n",
    "df['STDs:cervical condylomatosis'] = df['STDs:cervical condylomatosis'].fillna(df['STDs:cervical condylomatosis'].median())\n",
    "df['STDs:vaginal condylomatosis'] = df['STDs:vaginal condylomatosis'].fillna(df['STDs:vaginal condylomatosis'].median())\n",
    "df['STDs:vulvo-perineal condylomatosis'] = df['STDs:vulvo-perineal condylomatosis'].fillna(df['STDs:vulvo-perineal condylomatosis'].median())\n",
    "df['STDs:syphilis'] = df['STDs:syphilis'].fillna(df['STDs:syphilis'].median())\n",
    "df['STDs:pelvic inflammatory disease'] = df['STDs:pelvic inflammatory disease'].fillna(df['STDs:pelvic inflammatory disease'].median())\n",
    "df['STDs:genital herpes'] = df['STDs:genital herpes'].fillna(df['STDs:genital herpes'].median())\n",
    "df['STDs:molluscum contagiosum'] = df['STDs:molluscum contagiosum'].fillna(df['STDs:molluscum contagiosum'].median())\n",
    "df['STDs:AIDS'] = df['STDs:AIDS'].fillna(df['STDs:AIDS'].median())\n",
    "df['STDs:HIV'] = df['STDs:HIV'].fillna(df['STDs:HIV'].median())\n",
    "df['STDs:Hepatitis B'] = df['STDs:Hepatitis B'].fillna(df['STDs:Hepatitis B'].median())\n",
    "df['STDs:HPV'] = df['STDs:HPV'].fillna(df['STDs:HPV'].median())\n",
    "df['STDs: Time since first diagnosis'] = df['STDs: Time since first diagnosis'].fillna(df['STDs: Time since first diagnosis'].median())\n",
    "df['STDs: Time since last diagnosis'] = df['STDs: Time since last diagnosis'].fillna(df['STDs: Time since last diagnosis'].median())"
   ]
  },
  {
   "cell_type": "code",
   "execution_count": null,
   "metadata": {
    "_cell_guid": "4a524b14-0c16-4953-83ab-a2feeb1c1a6b",
    "_uuid": "ca519a78fb3a6b8afdbb362dc091dfb9d782d63b",
    "collapsed": true,
    "jupyter": {
     "outputs_hidden": true
    }
   },
   "outputs": [],
   "source": [
    "# for categorical variable\n",
    "df = pd.get_dummies(data=df, columns=['Smokes','Hormonal Contraceptives','IUD','STDs',\n",
    "                                      'Dx:Cancer','Dx:CIN','Dx:HPV','Dx','Hinselmann','Citology','Schiller'])"
   ]
  },
  {
   "cell_type": "code",
   "execution_count": null,
   "metadata": {
    "_cell_guid": "b2c7f913-2bd0-42e5-94ac-56a47a034028",
    "_uuid": "44a8394109c4150c3995703780284b36e1b79698"
   },
   "outputs": [],
   "source": [
    "df.isnull().sum() #No null left~"
   ]
  },
  {
   "cell_type": "code",
   "execution_count": null,
   "metadata": {
    "_cell_guid": "cdee662a-3738-4b26-a3c0-1a1d692133c2",
    "_uuid": "62b55bca85e01695013fda1b1e02c55d9688d424"
   },
   "outputs": [],
   "source": [
    "df "
   ]
  },
  {
   "cell_type": "markdown",
   "metadata": {
    "_cell_guid": "2cbb28fe-630b-4d79-adc0-bed9f116417a",
    "_uuid": "c7815ce52638e66d79c7eab90622e2fb74e95a8b"
   },
   "source": [
    "Now, we have full data 'df' for computation.<br/>\n",
    "We are ready for spliting data into train/test set, defining features and labels, and normalization."
   ]
  },
  {
   "cell_type": "code",
   "execution_count": null,
   "metadata": {
    "_cell_guid": "e847e536-2dbf-4462-8ffc-9969dc1087e8",
    "_uuid": "00c96f2850f4fb5da7cf18959bd2abbaa7d537b5",
    "collapsed": true,
    "jupyter": {
     "outputs_hidden": true
    }
   },
   "outputs": [],
   "source": [
    "df_data = df #making temporary save"
   ]
  },
  {
   "cell_type": "markdown",
   "metadata": {
    "_cell_guid": "fa88ca28-6e6f-4931-bf25-99e3c75e5fe2",
    "_uuid": "e6ae8af4b395ef5ea6389d1c85e2f0549afe17c6"
   },
   "source": [
    "## Quick check for value range (especially when doing regression)"
   ]
  },
  {
   "cell_type": "code",
   "execution_count": null,
   "metadata": {
    "_cell_guid": "ababb952-8421-4d5d-b11a-a6e7b7fe2cdf",
    "_uuid": "9cd556622a03224b72c1882ce6865d27f65a6735"
   },
   "outputs": [],
   "source": [
    "df.describe()"
   ]
  },
  {
   "cell_type": "code",
   "execution_count": null,
   "metadata": {
    "_cell_guid": "63c00af8-c34c-494a-9b75-df7a9ee40d4a",
    "_uuid": "086f0abfedeedfc3bacb5476ddf09fd16381fd30"
   },
   "outputs": [],
   "source": [
    "fig, (ax1,ax2,ax3,ax4,ax5,ax6,ax7) = plt.subplots(7,1,figsize=(20,40))\n",
    "sns.countplot(x='Age', data=df, ax=ax1)\n",
    "sns.countplot(x='Number of sexual partners', data=df, ax=ax2)\n",
    "sns.countplot(x='Num of pregnancies', data=df, ax=ax3)\n",
    "sns.countplot(x='Smokes (years)', data=df, ax=ax4)\n",
    "sns.countplot(x='Hormonal Contraceptives (years)', data=df, ax=ax5)\n",
    "sns.countplot(x='IUD (years)', data=df, ax=ax6)\n",
    "sns.countplot(x='STDs (number)', data=df, ax=ax7)"
   ]
  },
  {
   "cell_type": "markdown",
   "metadata": {
    "_cell_guid": "ea105ba8-bf4d-488e-a15b-0228417994d9",
    "_uuid": "6f1bdea2af18af33ab71b9519f81501bdbdfcb08"
   },
   "source": [
    "## Shuffle the data, and split them into train set and test set."
   ]
  },
  {
   "cell_type": "code",
   "execution_count": null,
   "metadata": {
    "_cell_guid": "836eb08d-b314-4c74-a5a7-c1925dfdeaff",
    "_uuid": "fbe06c0fe01326cf0b07adbb0e2f89dbd22a2b52",
    "collapsed": true,
    "jupyter": {
     "outputs_hidden": true
    }
   },
   "outputs": [],
   "source": [
    "#Shuffle\n",
    "np.random.seed(42)\n",
    "df_data_shuffle = df_data.iloc[np.random.permutation(len(df_data))]\n",
    "\n",
    "df_train = df_data_shuffle.iloc[1:686, :]\n",
    "df_test = df_data_shuffle.iloc[686: , :]"
   ]
  },
  {
   "cell_type": "markdown",
   "metadata": {
    "_cell_guid": "d2ad9c18-0a37-4c35-96d0-5c218819e7ff",
    "_uuid": "ab55ac7787cf7f0f8166e1754dfe7308dbc879dc"
   },
   "source": [
    "## Defining features and labels"
   ]
  },
  {
   "cell_type": "code",
   "execution_count": null,
   "metadata": {
    "_cell_guid": "a147ceef-b357-4809-9cb7-0319bd4355d4",
    "_uuid": "9ed3cb81d48c372c8f812a0a17e6466eeb6cf68d",
    "collapsed": true,
    "jupyter": {
     "outputs_hidden": true
    }
   },
   "outputs": [],
   "source": [
    "#分類feature/label\n",
    "df_train_feature = df_train[['Age', 'Number of sexual partners', 'First sexual intercourse',\n",
    "       'Num of pregnancies', 'Smokes (years)', 'Smokes (packs/year)',\n",
    "       'Hormonal Contraceptives (years)', 'IUD (years)', 'STDs (number)',\n",
    "       'STDs:condylomatosis', 'STDs:cervical condylomatosis',\n",
    "       'STDs:vaginal condylomatosis', 'STDs:vulvo-perineal condylomatosis',\n",
    "       'STDs:syphilis', 'STDs:pelvic inflammatory disease',\n",
    "       'STDs:genital herpes', 'STDs:molluscum contagiosum', 'STDs:AIDS',\n",
    "       'STDs:HIV', 'STDs:Hepatitis B', 'STDs:HPV', 'STDs: Number of diagnosis',\n",
    "       'STDs: Time since first diagnosis', 'STDs: Time since last diagnosis', \n",
    "       'Smokes_0.0', 'Smokes_1.0',\n",
    "       'Hormonal Contraceptives_0.0', 'Hormonal Contraceptives_1.0', 'IUD_0.0',\n",
    "       'IUD_1.0', 'STDs_0.0', 'STDs_1.0', 'Dx:Cancer_0', 'Dx:Cancer_1',\n",
    "       'Dx:CIN_0', 'Dx:CIN_1', 'Dx:HPV_0', 'Dx:HPV_1', 'Dx_0', 'Dx_1',\n",
    "       'Hinselmann_0', 'Hinselmann_1', 'Citology_0', 'Citology_1','Schiller_0','Schiller_1']]\n",
    "\n",
    "train_label = np.array(df_train['Biopsy'])\n",
    "\n",
    "df_test_feature = df_test[['Age', 'Number of sexual partners', 'First sexual intercourse',\n",
    "       'Num of pregnancies', 'Smokes (years)', 'Smokes (packs/year)',\n",
    "       'Hormonal Contraceptives (years)', 'IUD (years)', 'STDs (number)',\n",
    "       'STDs:condylomatosis', 'STDs:cervical condylomatosis',\n",
    "       'STDs:vaginal condylomatosis', 'STDs:vulvo-perineal condylomatosis',\n",
    "       'STDs:syphilis', 'STDs:pelvic inflammatory disease',\n",
    "       'STDs:genital herpes', 'STDs:molluscum contagiosum', 'STDs:AIDS',\n",
    "       'STDs:HIV', 'STDs:Hepatitis B', 'STDs:HPV', 'STDs: Number of diagnosis',\n",
    "       'STDs: Time since first diagnosis', 'STDs: Time since last diagnosis', \n",
    "       'Smokes_0.0', 'Smokes_1.0',\n",
    "       'Hormonal Contraceptives_0.0', 'Hormonal Contraceptives_1.0', 'IUD_0.0',\n",
    "       'IUD_1.0', 'STDs_0.0', 'STDs_1.0', 'Dx:Cancer_0', 'Dx:Cancer_1',\n",
    "       'Dx:CIN_0', 'Dx:CIN_1', 'Dx:HPV_0', 'Dx:HPV_1', 'Dx_0', 'Dx_1',\n",
    "       'Hinselmann_0', 'Hinselmann_1', 'Citology_0', 'Citology_1','Schiller_0','Schiller_1']]\n",
    "\n",
    "test_label = np.array(df_test['Biopsy'])"
   ]
  },
  {
   "cell_type": "markdown",
   "metadata": {
    "_cell_guid": "c7fe14f7-60a7-443b-b180-0825ad9a9a67",
    "_uuid": "6e228021928b8f4d704adfb50eeb8838591e8258"
   },
   "source": [
    "## Data normalization"
   ]
  },
  {
   "cell_type": "code",
   "execution_count": null,
   "metadata": {
    "_cell_guid": "0558a077-6623-4d04-83e0-92ca45d7ac46",
    "_uuid": "9bb55e18fcbf715fe428ebc1376c690456257c06",
    "collapsed": true,
    "jupyter": {
     "outputs_hidden": true
    }
   },
   "outputs": [],
   "source": [
    "#Normalization\n",
    "from sklearn import preprocessing\n",
    "minmax_scale = preprocessing.MinMaxScaler(feature_range=(0, 1))\n",
    "train_feature = minmax_scale.fit_transform(df_train_feature)\n",
    "test_feature = minmax_scale.fit_transform(df_test_feature)"
   ]
  },
  {
   "cell_type": "code",
   "execution_count": null,
   "metadata": {
    "_cell_guid": "96458ce1-3f1a-48a1-ac54-fdbe3dc94f66",
    "_uuid": "4b0330a19104b4ae45a381861805d7dfb08a4bf7"
   },
   "outputs": [],
   "source": [
    "#Make sure if it's the shape what we want!\n",
    "print(train_feature[0])\n",
    "print(train_label[0])\n",
    "print(test_feature[0])\n",
    "print(test_label[0])"
   ]
  },
  {
   "cell_type": "code",
   "execution_count": null,
   "metadata": {
    "_cell_guid": "40a9e8da-bd78-4aa6-853e-1394aa8611ac",
    "_uuid": "d4fde7839cba14daa174f51f5710101cd7601498"
   },
   "outputs": [],
   "source": [
    "train_feature.shape"
   ]
  },
  {
   "cell_type": "markdown",
   "metadata": {
    "_cell_guid": "182824f4-dd99-4eeb-a7fa-2d75a303ffa7",
    "_uuid": "4373ac53de19173dd8accb3ce5e5c3ff10028cf9"
   },
   "source": [
    "Now, we are ready to run keras model."
   ]
  },
  {
   "cell_type": "markdown",
   "metadata": {
    "_cell_guid": "1b34a68a-48c4-4a51-8fdf-f501f7035db2",
    "_uuid": "21084cc580f4c509c2000458fd90e2c9912a583d"
   },
   "source": [
    "# 3. (Keras) Model designing/training/visualization"
   ]
  },
  {
   "cell_type": "markdown",
   "metadata": {
    "_cell_guid": "4cab4998-72dd-4ee1-bb4e-4894ee763a52",
    "_uuid": "4fe4c010d851393337b1b145aca7bce50f218b63"
   },
   "source": [
    "### A very simple, quick and effective MLP approach to solve binary classification problem"
   ]
  },
  {
   "cell_type": "code",
   "execution_count": null,
   "metadata": {
    "_cell_guid": "45fc5a00-fab8-4423-bada-651431de7ec7",
    "_uuid": "a54e16faacad48eec046aec6695e1f0d98f722b0"
   },
   "outputs": [],
   "source": [
    "import matplotlib.pyplot as plt\n",
    "def show_train_history(train_history,train,validation):\n",
    "    plt.plot(train_history.history[train])\n",
    "    plt.plot(train_history.history[validation])\n",
    "    plt.title('Train History')\n",
    "    plt.ylabel(train)\n",
    "    plt.xlabel('Epoch')\n",
    "    plt.legend(['train', 'validation'], loc='best')\n",
    "    plt.show()\n",
    "\n",
    "\n",
    "######################### Model designing\n",
    "from keras.models import Sequential\n",
    "from keras.layers import Dense\n",
    "from keras.layers import Dropout\n",
    "\n",
    "model = Sequential() \n",
    "\n",
    "#Input layer\n",
    "model.add(Dense(units=500, \n",
    "                input_dim=46, \n",
    "                kernel_initializer='uniform', \n",
    "                activation='relu'))\n",
    "model.add(Dropout(0.5))\n",
    "\n",
    "#Hidden layer 1\n",
    "model.add(Dense(units=200,  \n",
    "                kernel_initializer='uniform', \n",
    "                activation='relu'))\n",
    "model.add(Dropout(0.5))\n",
    "\n",
    "#Output layer\n",
    "model.add(Dense(units=1,\n",
    "                kernel_initializer='uniform', \n",
    "                activation='sigmoid'))\n",
    "\n",
    "print(model.summary()) #for showing the structure and parameters\n",
    "\n",
    "# Defining how to measure performance\n",
    "model.compile(loss='binary_crossentropy',   \n",
    "              optimizer='adam', metrics=['accuracy'])\n",
    "\n",
    "# Train the model\n",
    "# Verbose=2, showing loss and accuracy change timely\n",
    "train_history = model.fit(x=train_feature, y=train_label,  \n",
    "                          validation_split=0.2, epochs=20, \n",
    "                          batch_size=200, verbose=2) \n",
    "\n",
    "#visualize the loss and accuracy after each epoch\n",
    "show_train_history(train_history,'acc','val_acc')\n",
    "show_train_history(train_history,'loss','val_loss')\n",
    "\n",
    "#For saving weights\n",
    "#model.save_weights(\"Savemodels/Cervical_ca(Kaggles)_MLP.h5\")\n",
    "#print('model saved to disk')"
   ]
  },
  {
   "cell_type": "markdown",
   "metadata": {
    "_cell_guid": "7879ba23-2705-4efe-bb96-61e5060dbc69",
    "_uuid": "ec43eefff6f74181c0bdcdbc8ac63e7b8f7f2148"
   },
   "source": [
    " The model should run very fast because the data was really small."
   ]
  },
  {
   "cell_type": "markdown",
   "metadata": {
    "_cell_guid": "2580bafb-e1b4-4ac7-a3cf-c1250fad5d3e",
    "_uuid": "93e5c0e1daa259d163a06c2df4bb848fa73c53ee"
   },
   "source": [
    "PS. The reason I don't want to train this model too many times is because the training set and validation set loss seems to deviate, which is a sign of overfitting."
   ]
  },
  {
   "cell_type": "markdown",
   "metadata": {
    "_cell_guid": "9df44113-8f76-483a-99e1-7c40ca6d792f",
    "_uuid": "f6b6b915b14418f7455aeddd19ca37e2c33a2459"
   },
   "source": [
    "# 4. Model prediction accuracy"
   ]
  },
  {
   "cell_type": "markdown",
   "metadata": {
    "_cell_guid": "cd0b99cf-1cd4-4c23-a32d-2358c5387c14",
    "_uuid": "98b016f4d29df76e46ac8d45288bd943bca81156"
   },
   "source": [
    "## In test data"
   ]
  },
  {
   "cell_type": "code",
   "execution_count": null,
   "metadata": {
    "_cell_guid": "eaf82f24-f6cc-47a6-8db6-271bc348fa15",
    "_uuid": "c22b2297809bbafd67aba732a60f9465b2f2fa1c"
   },
   "outputs": [],
   "source": [
    "scores = model.evaluate(test_feature, test_label)\n",
    "print('\\n')\n",
    "print('accuracy=',scores[1])"
   ]
  },
  {
   "cell_type": "code",
   "execution_count": null,
   "metadata": {
    "_cell_guid": "b882bbe7-3a13-4346-9be9-c4403942e5b9",
    "_uuid": "415a9dea72b9ad0b07ec47086c034a91324ba824"
   },
   "outputs": [],
   "source": [
    "# Answer sheet\n",
    "prediction = model.predict_classes(test_feature)"
   ]
  },
  {
   "cell_type": "code",
   "execution_count": null,
   "metadata": {
    "_cell_guid": "aac8ed29-a975-4c3a-9dd5-daafc0236d35",
    "_uuid": "24702fbce265faccbb67374c6bb298dac62e0ef9",
    "collapsed": true,
    "jupyter": {
     "outputs_hidden": true
    }
   },
   "outputs": [],
   "source": [
    "# Create a dataframe for prediction and correct answer\n",
    "df_ans = pd.DataFrame({'Biopsy' :test_label})\n",
    "df_ans['Prediction'] = prediction"
   ]
  },
  {
   "cell_type": "code",
   "execution_count": null,
   "metadata": {
    "_cell_guid": "54ff0ac2-45f0-4755-bafc-ff8b5bb9e4bd",
    "_uuid": "88d4787000268a7142775e9d64a73dc0ab2e0082"
   },
   "outputs": [],
   "source": [
    "df_ans"
   ]
  },
  {
   "cell_type": "markdown",
   "metadata": {
    "_cell_guid": "d64517f9-d3de-4cfa-9620-8393e3770e70",
    "_uuid": "8072c424d219fa95f20f32d79c013aa19248c563"
   },
   "source": [
    "See what's going wrong"
   ]
  },
  {
   "cell_type": "code",
   "execution_count": null,
   "metadata": {
    "_cell_guid": "92c26a70-ce22-41d4-b87d-3364160d6173",
    "_uuid": "f40eb929aabb48d08a622c6e455dcb2167cb1006"
   },
   "outputs": [],
   "source": [
    "df_ans[ df_ans['Biopsy'] != df_ans['Prediction'] ]"
   ]
  },
  {
   "cell_type": "code",
   "execution_count": null,
   "metadata": {
    "_cell_guid": "45644006-ccbc-4442-9922-5e6881f40a17",
    "_uuid": "9ee95a186391052d43b02d4f6f49794963af1bf8"
   },
   "outputs": [],
   "source": [
    "df_ans['Prediction'].value_counts()"
   ]
  },
  {
   "cell_type": "code",
   "execution_count": null,
   "metadata": {
    "_cell_guid": "8857ee5e-4d06-47ec-b8a7-b1ddcfc99d5f",
    "_uuid": "a72d9b22fde9822e58c3ec81e87c1afbc3749eb7"
   },
   "outputs": [],
   "source": [
    "df_ans['Biopsy'].value_counts()"
   ]
  },
  {
   "cell_type": "markdown",
   "metadata": {
    "_cell_guid": "bd665835-4838-4173-9b42-836bc124bea1",
    "_uuid": "e61d69079474ee9e9af78ad79ac7dd49b7dea767"
   },
   "source": [
    "## Confusion matrix"
   ]
  },
  {
   "cell_type": "markdown",
   "metadata": {
    "_cell_guid": "8cc236e0-e523-4b5a-aaf1-074e1025dc6d",
    "_uuid": "d8166b72dce7d7426d2c01bf0ee6a5b4eb0b1fc1"
   },
   "source": [
    "Make confusion matrix to evaluate the performance of the prediction model."
   ]
  },
  {
   "cell_type": "code",
   "execution_count": null,
   "metadata": {
    "_cell_guid": "959e07c8-0a37-4a11-8fd7-80d5b4a1f58d",
    "_uuid": "7604a8d35277623dc1a5cd0275963b3f2346bafc"
   },
   "outputs": [],
   "source": [
    "cols = ['Biopsy_1','Biopsy_0']  #Gold standard\n",
    "rows = ['Prediction_1','Prediction_0'] #diagnostic tool (our prediction)\n",
    "\n",
    "B1P1 = len(df_ans[(df_ans['Prediction'] == df_ans['Biopsy']) & (df_ans['Biopsy'] == 1)])\n",
    "B1P0 = len(df_ans[(df_ans['Prediction'] != df_ans['Biopsy']) & (df_ans['Biopsy'] == 1)])\n",
    "B0P1 = len(df_ans[(df_ans['Prediction'] != df_ans['Biopsy']) & (df_ans['Biopsy'] == 0)])\n",
    "B0P0 = len(df_ans[(df_ans['Prediction'] == df_ans['Biopsy']) & (df_ans['Biopsy'] == 0)])\n",
    "\n",
    "conf = np.array([[B1P1,B0P1],[B1P0,B0P0]])\n",
    "df_cm = pd.DataFrame(conf, columns = [i for i in cols], index = [i for i in rows])\n",
    "\n",
    "f, ax= plt.subplots(figsize = (5, 5))\n",
    "sns.heatmap(df_cm, annot=True, ax=ax) \n",
    "ax.xaxis.set_ticks_position('top') #Making x label be on top is common in textbooks.\n",
    "\n",
    "print('total test case number: ', np.sum(conf))"
   ]
  },
  {
   "cell_type": "markdown",
   "metadata": {
    "_cell_guid": "93ca2b28-2c6d-42aa-ae65-d29ddfee4ac2",
    "_uuid": "d55cc72185077805d850593e753eda81ebe772b3"
   },
   "source": [
    "### Calculating sensitivity, specificity, false_positive_rate and false_negative_rate"
   ]
  },
  {
   "cell_type": "code",
   "execution_count": null,
   "metadata": {
    "_cell_guid": "74fec08f-a7b9-46b2-abb0-12bd8814b1d7",
    "_uuid": "e7d48d10f81dd20168e6abcf7926c272899dd603"
   },
   "outputs": [],
   "source": [
    "def model_efficacy(conf):\n",
    "    total_num = np.sum(conf)\n",
    "    sen = conf[0][0]/(conf[0][0]+conf[1][0])\n",
    "    spe = conf[1][1]/(conf[1][0]+conf[1][1])\n",
    "    false_positive_rate = conf[0][1]/(conf[0][1]+conf[1][1])\n",
    "    false_negative_rate = conf[1][0]/(conf[0][0]+conf[1][0])\n",
    "    \n",
    "    print('total_num: ',total_num)\n",
    "    print('G1P1: ',conf[0][0]) #G = gold standard; P = prediction\n",
    "    print('G0P1: ',conf[0][1])\n",
    "    print('G1P0: ',conf[1][0])\n",
    "    print('G0P0: ',conf[1][1])\n",
    "    print('##########################')\n",
    "    print('sensitivity: ',sen)\n",
    "    print('specificity: ',spe)\n",
    "    print('false_positive_rate: ',false_positive_rate)\n",
    "    print('false_negative_rate: ',false_negative_rate)\n",
    "    \n",
    "    return total_num, sen, spe, false_positive_rate, false_negative_rate\n",
    "\n",
    "model_efficacy(conf)\n",
    "    "
   ]
  },
  {
   "cell_type": "markdown",
   "metadata": {
    "_cell_guid": "e160aa4e-763e-41be-a6f5-3c6638961fa0",
    "_uuid": "4c770ed2e6e60eac47ddb060730d0495d6167ba3"
   },
   "source": [
    "You can also do the same analysis with train data. Try it~"
   ]
  },
  {
   "cell_type": "markdown",
   "metadata": {
    "_cell_guid": "0e032bce-d573-4fe1-95d7-f0cdf305648f",
    "_uuid": "3e1df36f577cba52af8579a81a7f0b98656d5010"
   },
   "source": [
    "# Appendix: Dealing with original data (Human learning)"
   ]
  },
  {
   "cell_type": "markdown",
   "metadata": {
    "_cell_guid": "a7f427f5-9409-44e4-b003-46f517dd96da",
    "_uuid": "6ac57f4bac16274abf4182a2d4d32028ec45c69f"
   },
   "source": [
    "## Let's see some categorical variable property"
   ]
  },
  {
   "cell_type": "markdown",
   "metadata": {
    "_cell_guid": "b0064486-ec4c-4d8a-aa8f-fa2d3df66b62",
    "_uuid": "de113adde1cc655842c935f74598e86edced989b"
   },
   "source": [
    "### Age"
   ]
  },
  {
   "cell_type": "code",
   "execution_count": null,
   "metadata": {
    "_cell_guid": "d5c64bf1-65ad-4910-98e1-ccfaf3d48a18",
    "_uuid": "341443a950d49e35489af7881ec3f40874baede3"
   },
   "outputs": [],
   "source": [
    "import seaborn as sns\n",
    "sns.jointplot(x='Age', y='Biopsy', data=df, alpha=0.1) \n",
    "#By adding alpha, we can see the density of the scattered spots clearly."
   ]
  },
  {
   "cell_type": "code",
   "execution_count": null,
   "metadata": {
    "_cell_guid": "3002b353-d2f9-41c3-9883-9106a1403107",
    "_uuid": "22aa49b0bc470e71f5f8ee9a2420d1edae356c65"
   },
   "outputs": [],
   "source": [
    "fig, (ax1,ax2,ax3) = plt.subplots(3,1,figsize=(15,12))\n",
    "sns.countplot(x='Age', data=df, ax=ax1)\n",
    "sns.countplot(x='Biopsy', data=df, ax=ax2)\n",
    "sns.barplot(x='Age', y='Biopsy', data=df, ax=ax3)\n",
    "\n",
    "#Stratified\n",
    "facet = sns.FacetGrid(df, hue='Biopsy',aspect=4)\n",
    "facet.map(sns.kdeplot,'Age',shade= True)\n",
    "facet.set(xlim=(0, df['Age'].max()))\n",
    "facet.add_legend()"
   ]
  },
  {
   "cell_type": "markdown",
   "metadata": {
    "_cell_guid": "abf55400-a1da-4623-9b1f-5498125bbd16",
    "_uuid": "9d4d91520b0c244a4a50a1e63a84ad21268de1a4"
   },
   "source": [
    "### Number of sexual partners"
   ]
  },
  {
   "cell_type": "code",
   "execution_count": null,
   "metadata": {
    "_cell_guid": "89d29109-2157-4a06-bd52-cda5e9efb00b",
    "_uuid": "42aae37ca95a20c186379fed766435887151f634"
   },
   "outputs": [],
   "source": [
    "import seaborn as sns\n",
    "sns.jointplot(x='Number of sexual partners', y='Biopsy', data=df, alpha=0.1) \n",
    "#By adding alpha, we can see the density of the scattered spots clearly."
   ]
  },
  {
   "cell_type": "code",
   "execution_count": null,
   "metadata": {
    "_cell_guid": "f1db51be-8dd2-4422-8267-f6962169b9e0",
    "_uuid": "848c6ccbf370f3d8420e359c33e82283bd6dcdcd"
   },
   "outputs": [],
   "source": [
    "fig, (ax1,ax2) = plt.subplots(2,1,figsize=(15,8))\n",
    "sns.countplot(x='Number of sexual partners', data=df, ax=ax1)\n",
    "sns.barplot(x='Number of sexual partners', y='Biopsy', data=df, ax=ax2) #categorical to categorical\n",
    "\n",
    "#continuous to categorical\n",
    "facet = sns.FacetGrid(df, hue='Biopsy',aspect=4)\n",
    "facet.map(sns.kdeplot,'Number of sexual partners',shade= True)\n",
    "facet.set(xlim=(0, df['Number of sexual partners'].max()))\n",
    "facet.add_legend()"
   ]
  },
  {
   "cell_type": "markdown",
   "metadata": {
    "_cell_guid": "842df622-5c9e-479a-b054-fdf3848b8cf6",
    "_uuid": "ba297aaf0b9426b8704b736fabf2f1fe4a0c56c1"
   },
   "source": [
    "The people having more than 10 sexual partners got biopsy(-)...hmm..."
   ]
  },
  {
   "cell_type": "markdown",
   "metadata": {
    "_cell_guid": "26fc79a9-b6d2-4096-9586-5eebc7fbc03a",
    "_uuid": "748c323c55fe06b8f8efeb2ac03d43fbb17548a1"
   },
   "source": [
    "### Num of pregnancies"
   ]
  },
  {
   "cell_type": "code",
   "execution_count": null,
   "metadata": {
    "_cell_guid": "eadcc118-7544-4694-94b3-49e7c0f34095",
    "_uuid": "7353206ac4e8264ed748b4c43fbb874c5e3b6109"
   },
   "outputs": [],
   "source": [
    "import seaborn as sns\n",
    "sns.jointplot(x='Num of pregnancies', y='Biopsy', data=df, alpha=0.1) "
   ]
  },
  {
   "cell_type": "code",
   "execution_count": null,
   "metadata": {
    "_cell_guid": "3c7cab9e-ce41-4b38-8579-70b2a36ad7ad",
    "_uuid": "4c0aa69d9a30fb8f9848c4be9c77e6cfdc123aeb"
   },
   "outputs": [],
   "source": [
    "sns.factorplot('Num of pregnancies','Biopsy',data=df, size=5, aspect=3)"
   ]
  },
  {
   "cell_type": "code",
   "execution_count": null,
   "metadata": {
    "_cell_guid": "2b0db586-1a7a-42e3-999c-538ed0eafc85",
    "_uuid": "cc113d015acc9136cd6aa5958f4831458f35c08a"
   },
   "outputs": [],
   "source": [
    "#continuous to categorical\n",
    "facet = sns.FacetGrid(df, hue='Biopsy',aspect=4)\n",
    "facet.map(sns.kdeplot,'Num of pregnancies',shade= True)\n",
    "facet.set(xlim=(0, df['Num of pregnancies'].max()))\n",
    "facet.add_legend()"
   ]
  },
  {
   "cell_type": "markdown",
   "metadata": {
    "_cell_guid": "a3fe32f0-5ad4-4977-8f09-a22f567b37b6",
    "_uuid": "a82a038890c1a118d2bc0096aeb1f37522ccc403"
   },
   "source": [
    "### Cytology"
   ]
  },
  {
   "cell_type": "code",
   "execution_count": null,
   "metadata": {
    "_cell_guid": "9fc50da7-70e3-4381-a8e2-ca8a386d8bec",
    "_uuid": "a2ceb218e768f60b926e562e142a812bab515b9e"
   },
   "outputs": [],
   "source": [
    "import seaborn as sns\n",
    "sns.jointplot(x='Citology_1', y='Biopsy', data=df, alpha=0.1) \n",
    "# Hard do see anything..."
   ]
  },
  {
   "cell_type": "code",
   "execution_count": null,
   "metadata": {
    "_cell_guid": "96c09840-b2e2-442b-9cc7-ef9792c19357",
    "_uuid": "2fcdc3cbbd1dadfd7b341644fb590289ea140b32"
   },
   "outputs": [],
   "source": [
    "fig, (axis1,axis2,axis3) = plt.subplots(1,3,figsize=(15,5))\n",
    "sns.countplot(x='Citology_1', data=df, ax=axis1)\n",
    "sns.countplot(x='Biopsy', data=df, ax=axis2)\n",
    "sns.barplot(x='Citology_1', y='Biopsy', data=df, ax=axis3)  #categorical to categorical"
   ]
  },
  {
   "cell_type": "markdown",
   "metadata": {
    "_cell_guid": "05dc77bd-b690-4e63-b1a8-e0fa9066e2a0",
    "_uuid": "4f2d203c2b59d9aef5b79d33ede194f8178d56e5"
   },
   "source": [
    "### Schiller"
   ]
  },
  {
   "cell_type": "code",
   "execution_count": null,
   "metadata": {
    "_cell_guid": "ec92302b-e5bd-42cc-968f-1f073b155f31",
    "_uuid": "261454d5186c5d35bad0aba8948d05800f577b5e"
   },
   "outputs": [],
   "source": [
    "fig, (axis1,axis2,axis3) = plt.subplots(1,3,figsize=(15,5))\n",
    "sns.countplot(x='Schiller_1', data=df, ax=axis1)\n",
    "sns.countplot(x='Biopsy', data=df, ax=axis2)\n",
    "sns.barplot(x='Schiller_1', y='Biopsy', data=df, ax=axis3) #categorical to categorical"
   ]
  },
  {
   "cell_type": "markdown",
   "metadata": {
    "_cell_guid": "6b1e6219-5989-4c4a-9d08-e1f29487ebe0",
    "_uuid": "df789c20a82923bb7fe40cc144686cf53277f1a7"
   },
   "source": [
    "## See the correlation between the elements (df) "
   ]
  },
  {
   "cell_type": "markdown",
   "metadata": {
    "_cell_guid": "fb8d9aa0-2264-476c-a5dd-c1784b401c12",
    "_uuid": "a7acb567712240b06700f30a974afea367a4e782"
   },
   "source": [
    "Fastest way to get contour of the data"
   ]
  },
  {
   "cell_type": "code",
   "execution_count": null,
   "metadata": {
    "_cell_guid": "79001a22-d15b-44ce-b8ac-826536cdbf38",
    "_uuid": "351b138cbc8ac589fec0c2b0a9999afc05940b89"
   },
   "outputs": [],
   "source": [
    "corrmat = df.corr()\n",
    "f, ax = plt.subplots(figsize=(12, 9))\n",
    "sns.heatmap(corrmat, vmax=1, square=True, cmap='rainbow')"
   ]
  },
  {
   "cell_type": "code",
   "execution_count": null,
   "metadata": {
    "_cell_guid": "9f2a47e0-db7c-4ce0-8dc8-06092fabf35c",
    "_uuid": "4fc110077d1bc7e701694c0cd19e44f57afa9963"
   },
   "outputs": [],
   "source": [
    "df['STDs:cervical condylomatosis'].value_counts()"
   ]
  },
  {
   "cell_type": "code",
   "execution_count": null,
   "metadata": {
    "_cell_guid": "77f2d9aa-4874-4781-bde8-5fa84e4421a8",
    "_uuid": "c852fb8fe6004fec747b00d9df5b351adf6ec9b3"
   },
   "outputs": [],
   "source": [
    "df['STDs:AIDS'].value_counts()"
   ]
  },
  {
   "cell_type": "markdown",
   "metadata": {
    "_cell_guid": "19d361c1-e477-48b1-8f6e-7c234ea2903b",
    "_uuid": "68ba800749351dcb3291e915b9800fa999df9fcc"
   },
   "source": [
    "The correlation was actually quite low."
   ]
  },
  {
   "cell_type": "markdown",
   "metadata": {
    "_cell_guid": "76b1e4c7-e162-460a-b37c-7e6fd7b9f9ca",
    "_uuid": "afdd75d029d4ee973b45284a6c75a5f746ca4a98"
   },
   "source": [
    "## List the heatmap of top correlation"
   ]
  },
  {
   "cell_type": "code",
   "execution_count": null,
   "metadata": {
    "_cell_guid": "0a788977-bd71-4bf1-abb4-ddc0e512c508",
    "_uuid": "9ace0780d43729d0efe7f46ee52c89b077b4d6e0"
   },
   "outputs": [],
   "source": [
    "k = 15 #number of variables for heatmap\n",
    "cols = corrmat.nlargest(k, 'Biopsy')['Biopsy'].index\n",
    "cm = np.corrcoef(df[cols].values.T)\n",
    "\n",
    "plt.figure(figsize=(9,9)) #可以調整大小\n",
    "\n",
    "sns.set(font_scale=1.25)\n",
    "hm = sns.heatmap(cm, cbar=True, annot=True, square=True, fmt='.2f', annot_kws={'size': 10},\n",
    "                 yticklabels = cols.values, xticklabels = cols.values)\n",
    "plt.show()"
   ]
  },
  {
   "cell_type": "markdown",
   "metadata": {
    "_cell_guid": "fd640d0b-c153-4490-8980-f934bb4f2f1f",
    "_uuid": "b9e6574bf4ff669d1310f59f80589f604917f146"
   },
   "source": [
    "## Conclusion: <br/>"
   ]
  },
  {
   "cell_type": "markdown",
   "metadata": {
    "_cell_guid": "1777d3e1-5874-45ae-a13a-9898fcfe8aab",
    "_uuid": "418891aab0685dfbe91621b8e09e5eeae781ca76"
   },
   "source": [
    "It seems that 'Schiller_1', 'Hinselmann_1' and 'cytology_1' had the highest correlation with biopsy(+). <br/>\n",
    "The result matched the common sense of the medical knowldege: High specificity diagnositic tool would have low false positive error. "
   ]
  }
 ],
 "metadata": {
  "kernelspec": {
   "display_name": "Python 3 (ipykernel)",
   "language": "python",
   "name": "python3"
  },
  "language_info": {
   "codemirror_mode": {
    "name": "ipython",
    "version": 3
   },
   "file_extension": ".py",
   "mimetype": "text/x-python",
   "name": "python",
   "nbconvert_exporter": "python",
   "pygments_lexer": "ipython3",
   "version": "3.9.7"
  }
 },
 "nbformat": 4,
 "nbformat_minor": 4
}
